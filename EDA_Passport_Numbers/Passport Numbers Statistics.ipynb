{
 "cells": [
  {
   "cell_type": "markdown",
   "metadata": {},
   "source": [
    "# Passport number exploratory data analysis\n",
    "I have a set of passport numbers which I need to evaluate in order to suggest appropriate handling of this data serie."
   ]
  },
  {
   "cell_type": "code",
   "execution_count": 1,
   "metadata": {},
   "outputs": [],
   "source": [
    "import pandas as pd\n",
    "import matplotlib.pyplot as plt\n",
    "import seaborn as sns"
   ]
  },
  {
   "cell_type": "markdown",
   "metadata": {},
   "source": [
    "Load the data from the source txt file"
   ]
  },
  {
   "cell_type": "code",
   "execution_count": 2,
   "metadata": {},
   "outputs": [
    {
     "name": "stdout",
     "output_type": "stream",
     "text": [
      "<class 'pandas.core.frame.DataFrame'>\n",
      "RangeIndex: 10902 entries, 0 to 10901\n",
      "Data columns (total 1 columns):\n",
      "PassportNumber    10902 non-null object\n",
      "dtypes: object(1)\n",
      "memory usage: 85.3+ KB\n"
     ]
    }
   ],
   "source": [
    "df = pd.read_csv(r\"data.csv\")\n",
    "df.info()"
   ]
  },
  {
   "cell_type": "markdown",
   "metadata": {},
   "source": [
    "We have 10902 records, let's explore what values they contains. \n",
    "First we check if there are some duplicates"
   ]
  },
  {
   "cell_type": "code",
   "execution_count": 3,
   "metadata": {},
   "outputs": [
    {
     "data": {
      "text/plain": [
       "10895"
      ]
     },
     "execution_count": 3,
     "metadata": {},
     "output_type": "execute_result"
    }
   ],
   "source": [
    "len(df[\"PassportNumber\"].unique())"
   ]
  },
  {
   "cell_type": "markdown",
   "metadata": {},
   "source": [
    "There are only 10895 unique numbers, which mean that some of the values are duplicated. For the purpose of this analysis we can remove them."
   ]
  },
  {
   "cell_type": "code",
   "execution_count": 4,
   "metadata": {},
   "outputs": [],
   "source": [
    "df = df.drop_duplicates()"
   ]
  },
  {
   "cell_type": "markdown",
   "metadata": {},
   "source": [
    "## Min and Max, longest and shortest"
   ]
  },
  {
   "cell_type": "markdown",
   "metadata": {},
   "source": [
    "One lines to see the min and max value"
   ]
  },
  {
   "cell_type": "code",
   "execution_count": 5,
   "metadata": {},
   "outputs": [
    {
     "data": {
      "text/plain": [
       "min    000000050\n",
       "max    ZXD244549\n",
       "Name: PassportNumber, dtype: object"
      ]
     },
     "execution_count": 5,
     "metadata": {},
     "output_type": "execute_result"
    }
   ],
   "source": [
    "df[\"PassportNumber\"].agg([\"min\",\"max\"])"
   ]
  },
  {
   "cell_type": "markdown",
   "metadata": {},
   "source": [
    "Because the values are strings, the min value is the one with the highest number of leading zeros and the highest is the one with the highest number of leading zeds. We would rather like to know the lenght of the shortest and the longest passports."
   ]
  },
  {
   "cell_type": "code",
   "execution_count": 6,
   "metadata": {},
   "outputs": [
    {
     "data": {
      "text/plain": [
       "['0', '00001', '001', '1', '123', 'AB', 'Z', 'Z123', 'ZZ123']"
      ]
     },
     "execution_count": 6,
     "metadata": {},
     "output_type": "execute_result"
    }
   ],
   "source": [
    "# try string sorting for yourself\n",
    "a = [\"0\",\"001\",\"00001\",\"1\",\"123\",\"AB\",\"Z\",\"Z123\",\"ZZ123\"]\n",
    "sorted(a)"
   ]
  },
  {
   "cell_type": "markdown",
   "metadata": {},
   "source": [
    "In order to see the longest and the shortest password, let's look on their lenght"
   ]
  },
  {
   "cell_type": "code",
   "execution_count": 7,
   "metadata": {},
   "outputs": [
    {
     "data": {
      "text/plain": [
       "min     3\n",
       "max    17\n",
       "Name: PassportNumber, dtype: int64"
      ]
     },
     "execution_count": 7,
     "metadata": {},
     "output_type": "execute_result"
    }
   ],
   "source": [
    "df[\"PassportNumber\"].apply(len).agg([\"min\",\"max\"])"
   ]
  },
  {
   "cell_type": "markdown",
   "metadata": {},
   "source": [
    "Shortest passport has only three characters which looks suspicious and the longest contain 17 characters which also seems a bit too much. Let's add a \"len\" column into our dataframe to review the distribution and the values."
   ]
  },
  {
   "cell_type": "code",
   "execution_count": 8,
   "metadata": {},
   "outputs": [],
   "source": [
    "df['len'] = df[\"PassportNumber\"].apply(len)"
   ]
  },
  {
   "cell_type": "markdown",
   "metadata": {},
   "source": [
    "Let's have a look on the longest numbers"
   ]
  },
  {
   "cell_type": "code",
   "execution_count": 9,
   "metadata": {},
   "outputs": [
    {
     "data": {
      "text/html": [
       "<div>\n",
       "<style scoped>\n",
       "    .dataframe tbody tr th:only-of-type {\n",
       "        vertical-align: middle;\n",
       "    }\n",
       "\n",
       "    .dataframe tbody tr th {\n",
       "        vertical-align: top;\n",
       "    }\n",
       "\n",
       "    .dataframe thead th {\n",
       "        text-align: right;\n",
       "    }\n",
       "</style>\n",
       "<table border=\"1\" class=\"dataframe\">\n",
       "  <thead>\n",
       "    <tr style=\"text-align: right;\">\n",
       "      <th></th>\n",
       "      <th>PassportNumber</th>\n",
       "      <th>len</th>\n",
       "    </tr>\n",
       "  </thead>\n",
       "  <tbody>\n",
       "    <tr>\n",
       "      <td>5688</td>\n",
       "      <td>65361100000000000</td>\n",
       "      <td>17</td>\n",
       "    </tr>\n",
       "    <tr>\n",
       "      <td>5910</td>\n",
       "      <td>39598000000000000</td>\n",
       "      <td>17</td>\n",
       "    </tr>\n",
       "  </tbody>\n",
       "</table>\n",
       "</div>"
      ],
      "text/plain": [
       "         PassportNumber  len\n",
       "5688  65361100000000000   17\n",
       "5910  39598000000000000   17"
      ]
     },
     "execution_count": 9,
     "metadata": {},
     "output_type": "execute_result"
    }
   ],
   "source": [
    "df[df[\"len\"]==df['len'].max()]"
   ]
  },
  {
   "cell_type": "markdown",
   "metadata": {},
   "source": [
    "it looks like that they contain too many trailing zeros. What about the shortest ones. "
   ]
  },
  {
   "cell_type": "code",
   "execution_count": 10,
   "metadata": {},
   "outputs": [
    {
     "data": {
      "text/html": [
       "<div>\n",
       "<style scoped>\n",
       "    .dataframe tbody tr th:only-of-type {\n",
       "        vertical-align: middle;\n",
       "    }\n",
       "\n",
       "    .dataframe tbody tr th {\n",
       "        vertical-align: top;\n",
       "    }\n",
       "\n",
       "    .dataframe thead th {\n",
       "        text-align: right;\n",
       "    }\n",
       "</style>\n",
       "<table border=\"1\" class=\"dataframe\">\n",
       "  <thead>\n",
       "    <tr style=\"text-align: right;\">\n",
       "      <th></th>\n",
       "      <th>PassportNumber</th>\n",
       "      <th>len</th>\n",
       "    </tr>\n",
       "  </thead>\n",
       "  <tbody>\n",
       "    <tr>\n",
       "      <td>893</td>\n",
       "      <td>179</td>\n",
       "      <td>3</td>\n",
       "    </tr>\n",
       "    <tr>\n",
       "      <td>10418</td>\n",
       "      <td>917</td>\n",
       "      <td>3</td>\n",
       "    </tr>\n",
       "    <tr>\n",
       "      <td>10557</td>\n",
       "      <td>237</td>\n",
       "      <td>3</td>\n",
       "    </tr>\n",
       "  </tbody>\n",
       "</table>\n",
       "</div>"
      ],
      "text/plain": [
       "      PassportNumber  len\n",
       "893              179    3\n",
       "10418            917    3\n",
       "10557            237    3"
      ]
     },
     "execution_count": 10,
     "metadata": {},
     "output_type": "execute_result"
    }
   ],
   "source": [
    "df[df[\"len\"]==df['len'].min()]"
   ]
  },
  {
   "cell_type": "code",
   "execution_count": 11,
   "metadata": {},
   "outputs": [
    {
     "data": {
      "text/html": [
       "<div>\n",
       "<style scoped>\n",
       "    .dataframe tbody tr th:only-of-type {\n",
       "        vertical-align: middle;\n",
       "    }\n",
       "\n",
       "    .dataframe tbody tr th {\n",
       "        vertical-align: top;\n",
       "    }\n",
       "\n",
       "    .dataframe thead th {\n",
       "        text-align: right;\n",
       "    }\n",
       "</style>\n",
       "<table border=\"1\" class=\"dataframe\">\n",
       "  <thead>\n",
       "    <tr style=\"text-align: right;\">\n",
       "      <th></th>\n",
       "      <th>PassportNumber</th>\n",
       "      <th>len</th>\n",
       "    </tr>\n",
       "  </thead>\n",
       "  <tbody>\n",
       "    <tr>\n",
       "      <td>20</td>\n",
       "      <td>73846290957</td>\n",
       "      <td>11</td>\n",
       "    </tr>\n",
       "    <tr>\n",
       "      <td>40</td>\n",
       "      <td>N614226700</td>\n",
       "      <td>10</td>\n",
       "    </tr>\n",
       "    <tr>\n",
       "      <td>54</td>\n",
       "      <td>WC76717593</td>\n",
       "      <td>10</td>\n",
       "    </tr>\n",
       "    <tr>\n",
       "      <td>443</td>\n",
       "      <td>ZC464204933</td>\n",
       "      <td>11</td>\n",
       "    </tr>\n",
       "    <tr>\n",
       "      <td>473</td>\n",
       "      <td>R518348872</td>\n",
       "      <td>10</td>\n",
       "    </tr>\n",
       "    <tr>\n",
       "      <td>...</td>\n",
       "      <td>...</td>\n",
       "      <td>...</td>\n",
       "    </tr>\n",
       "    <tr>\n",
       "      <td>10234</td>\n",
       "      <td>0055123691</td>\n",
       "      <td>10</td>\n",
       "    </tr>\n",
       "    <tr>\n",
       "      <td>10334</td>\n",
       "      <td>XW66811820</td>\n",
       "      <td>10</td>\n",
       "    </tr>\n",
       "    <tr>\n",
       "      <td>10714</td>\n",
       "      <td>D759875000</td>\n",
       "      <td>10</td>\n",
       "    </tr>\n",
       "    <tr>\n",
       "      <td>10752</td>\n",
       "      <td>ZU28646829</td>\n",
       "      <td>10</td>\n",
       "    </tr>\n",
       "    <tr>\n",
       "      <td>10897</td>\n",
       "      <td>605716514158</td>\n",
       "      <td>12</td>\n",
       "    </tr>\n",
       "  </tbody>\n",
       "</table>\n",
       "<p>706 rows × 2 columns</p>\n",
       "</div>"
      ],
      "text/plain": [
       "      PassportNumber  len\n",
       "20       73846290957   11\n",
       "40        N614226700   10\n",
       "54        WC76717593   10\n",
       "443      ZC464204933   11\n",
       "473       R518348872   10\n",
       "...              ...  ...\n",
       "10234     0055123691   10\n",
       "10334     XW66811820   10\n",
       "10714     D759875000   10\n",
       "10752     ZU28646829   10\n",
       "10897   605716514158   12\n",
       "\n",
       "[706 rows x 2 columns]"
      ]
     },
     "execution_count": 11,
     "metadata": {},
     "output_type": "execute_result"
    }
   ],
   "source": [
    "df[df[\"len\"]>9]"
   ]
  },
  {
   "cell_type": "markdown",
   "metadata": {},
   "source": [
    "what is the distribution of the passport number length? "
   ]
  },
  {
   "cell_type": "code",
   "execution_count": 12,
   "metadata": {},
   "outputs": [
    {
     "data": {
      "text/html": [
       "<div>\n",
       "<style scoped>\n",
       "    .dataframe tbody tr th:only-of-type {\n",
       "        vertical-align: middle;\n",
       "    }\n",
       "\n",
       "    .dataframe tbody tr th {\n",
       "        vertical-align: top;\n",
       "    }\n",
       "\n",
       "    .dataframe thead th {\n",
       "        text-align: right;\n",
       "    }\n",
       "</style>\n",
       "<table border=\"1\" class=\"dataframe\">\n",
       "  <thead>\n",
       "    <tr style=\"text-align: right;\">\n",
       "      <th></th>\n",
       "      <th>index</th>\n",
       "      <th>len</th>\n",
       "      <th>|</th>\n",
       "      <th>index</th>\n",
       "      <th>len</th>\n",
       "    </tr>\n",
       "  </thead>\n",
       "  <tbody>\n",
       "    <tr>\n",
       "      <td>0</td>\n",
       "      <td>7</td>\n",
       "      <td>4519</td>\n",
       "      <td>|</td>\n",
       "      <td>3</td>\n",
       "      <td>3</td>\n",
       "    </tr>\n",
       "    <tr>\n",
       "      <td>1</td>\n",
       "      <td>8</td>\n",
       "      <td>2709</td>\n",
       "      <td>|</td>\n",
       "      <td>4</td>\n",
       "      <td>21</td>\n",
       "    </tr>\n",
       "    <tr>\n",
       "      <td>2</td>\n",
       "      <td>9</td>\n",
       "      <td>2552</td>\n",
       "      <td>|</td>\n",
       "      <td>5</td>\n",
       "      <td>80</td>\n",
       "    </tr>\n",
       "    <tr>\n",
       "      <td>3</td>\n",
       "      <td>12</td>\n",
       "      <td>486</td>\n",
       "      <td>|</td>\n",
       "      <td>6</td>\n",
       "      <td>305</td>\n",
       "    </tr>\n",
       "    <tr>\n",
       "      <td>4</td>\n",
       "      <td>6</td>\n",
       "      <td>305</td>\n",
       "      <td>|</td>\n",
       "      <td>7</td>\n",
       "      <td>4519</td>\n",
       "    </tr>\n",
       "    <tr>\n",
       "      <td>5</td>\n",
       "      <td>10</td>\n",
       "      <td>144</td>\n",
       "      <td>|</td>\n",
       "      <td>8</td>\n",
       "      <td>2709</td>\n",
       "    </tr>\n",
       "    <tr>\n",
       "      <td>6</td>\n",
       "      <td>5</td>\n",
       "      <td>80</td>\n",
       "      <td>|</td>\n",
       "      <td>9</td>\n",
       "      <td>2552</td>\n",
       "    </tr>\n",
       "    <tr>\n",
       "      <td>7</td>\n",
       "      <td>11</td>\n",
       "      <td>66</td>\n",
       "      <td>|</td>\n",
       "      <td>10</td>\n",
       "      <td>144</td>\n",
       "    </tr>\n",
       "    <tr>\n",
       "      <td>8</td>\n",
       "      <td>4</td>\n",
       "      <td>21</td>\n",
       "      <td>|</td>\n",
       "      <td>11</td>\n",
       "      <td>66</td>\n",
       "    </tr>\n",
       "    <tr>\n",
       "      <td>9</td>\n",
       "      <td>15</td>\n",
       "      <td>5</td>\n",
       "      <td>|</td>\n",
       "      <td>12</td>\n",
       "      <td>486</td>\n",
       "    </tr>\n",
       "    <tr>\n",
       "      <td>10</td>\n",
       "      <td>3</td>\n",
       "      <td>3</td>\n",
       "      <td>|</td>\n",
       "      <td>13</td>\n",
       "      <td>1</td>\n",
       "    </tr>\n",
       "    <tr>\n",
       "      <td>11</td>\n",
       "      <td>17</td>\n",
       "      <td>2</td>\n",
       "      <td>|</td>\n",
       "      <td>14</td>\n",
       "      <td>1</td>\n",
       "    </tr>\n",
       "    <tr>\n",
       "      <td>12</td>\n",
       "      <td>14</td>\n",
       "      <td>1</td>\n",
       "      <td>|</td>\n",
       "      <td>15</td>\n",
       "      <td>5</td>\n",
       "    </tr>\n",
       "    <tr>\n",
       "      <td>13</td>\n",
       "      <td>13</td>\n",
       "      <td>1</td>\n",
       "      <td>|</td>\n",
       "      <td>16</td>\n",
       "      <td>1</td>\n",
       "    </tr>\n",
       "    <tr>\n",
       "      <td>14</td>\n",
       "      <td>16</td>\n",
       "      <td>1</td>\n",
       "      <td>|</td>\n",
       "      <td>17</td>\n",
       "      <td>2</td>\n",
       "    </tr>\n",
       "  </tbody>\n",
       "</table>\n",
       "</div>"
      ],
      "text/plain": [
       "    index   len  |  index   len\n",
       "0       7  4519  |      3     3\n",
       "1       8  2709  |      4    21\n",
       "2       9  2552  |      5    80\n",
       "3      12   486  |      6   305\n",
       "4       6   305  |      7  4519\n",
       "5      10   144  |      8  2709\n",
       "6       5    80  |      9  2552\n",
       "7      11    66  |     10   144\n",
       "8       4    21  |     11    66\n",
       "9      15     5  |     12   486\n",
       "10      3     3  |     13     1\n",
       "11     17     2  |     14     1\n",
       "12     14     1  |     15     5\n",
       "13     13     1  |     16     1\n",
       "14     16     1  |     17     2"
      ]
     },
     "execution_count": 12,
     "metadata": {},
     "output_type": "execute_result"
    }
   ],
   "source": [
    "counts_by_value = df[\"len\"].value_counts().reset_index()\n",
    "separator = pd.Series([\"|\"]*df[\"len\"].value_counts().shape[0])\n",
    "separator.name = \"|\"\n",
    "counts_by_index = df[\"len\"].value_counts().sort_index().reset_index()\n",
    "\n",
    "pd.concat([counts_by_value, separator, counts_by_index], axis=1)"
   ]
  },
  {
   "cell_type": "code",
   "execution_count": 13,
   "metadata": {},
   "outputs": [
    {
     "data": {
      "text/plain": [
       "[0, 1, 2, 3, 4, 5, 6, 7, 8, 9, 10, 11, 12, 13, 14, 15, 16, 17]"
      ]
     },
     "execution_count": 13,
     "metadata": {},
     "output_type": "execute_result"
    }
   ],
   "source": [
    "[i for i in range(df[\"len\"].max()+1)]"
   ]
  },
  {
   "cell_type": "markdown",
   "metadata": {},
   "source": [
    "Let's plot it"
   ]
  },
  {
   "cell_type": "code",
   "execution_count": 14,
   "metadata": {},
   "outputs": [
    {
     "data": {
      "image/png": "[encoded data removed]",
      "text/plain": [
       "<Figure size 1080x360 with 4 Axes>"
      ]
     },
     "metadata": {
      "needs_background": "light"
     },
     "output_type": "display_data"
    }
   ],
   "source": [
    "fig, ax = plt.subplots(2,2, figsize=(15,5))\n",
    "\n",
    "# number of bins not specified\n",
    "df[\"len\"].hist(ax=ax[0,0])\n",
    "ax[0,0].set_title(\"Regular pandas histogram contains 10 bins\")\n",
    "\n",
    "# number of bins equal to the number of values\n",
    "df[\"len\"].hist(bins=len(df[\"len\"].unique()), ax=ax[0,1])\n",
    "ax[0,1].set_title(\"We have to set number of bins \\nto the number of unique passport lengts\")\n",
    "\n",
    "# same as previous, but the xticks also match the values\n",
    "df[\"len\"].hist(bins=len(df[\"len\"].unique()), ax=ax[1,0])\n",
    "ax[1,0].set_title(\"as well as number of xticks\")\n",
    "ax[1,0].set_xticks(range(df[\"len\"].max()+1))\n",
    "\n",
    "\n",
    "df[\"len\"].hist(bins=len(df[\"len\"].unique()), ax=ax[1,1])\n",
    "ax[1,1].set_title(\"anotated\")\n",
    "ax[1,1].set_xticks(range(df[\"len\"].max()+1))\n",
    "for p in ax[1,1].patches:\n",
    "    ax[1,1].annotate(str(p.get_height()), (p.get_x() * 1.005, p.get_height() * 1.005))\n",
    "plt.show()"
   ]
  },
  {
   "cell_type": "markdown",
   "metadata": {},
   "source": [
    "maybe it's the easiest to plot the bar charts rather then the histogram"
   ]
  },
  {
   "cell_type": "code",
   "execution_count": 15,
   "metadata": {},
   "outputs": [
    {
     "data": {
      "image/png": "[encoded data removed]",
      "text/plain": [
       "<Figure size 432x288 with 1 Axes>"
      ]
     },
     "metadata": {
      "needs_background": "light"
     },
     "output_type": "display_data"
    }
   ],
   "source": [
    "ax = df[\"len\"].value_counts().sort_index().plot(kind=\"bar\")\n",
    "ax.set_xlabel(\"position\")\n",
    "ax.set_ylabel(\"number of records\")\n",
    "for p in ax.patches:\n",
    "    ax.annotate(str(p.get_height()), (p.get_x() * 1.005, p.get_height() * 1.05))"
   ]
  },
  {
   "cell_type": "markdown",
   "metadata": {},
   "source": [
    "The most passport numbers has 7 characters, usual is also 8 and 9 and some have 12. Different number of characters is quite unique. "
   ]
  },
  {
   "cell_type": "markdown",
   "metadata": {},
   "source": [
    "## Leading and trailing zeroes\n",
    "We have seen that the longest passport contain quite many trailing zeros. Let's explore the distribution of the leading and the trailing zeros. "
   ]
  },
  {
   "cell_type": "code",
   "execution_count": 16,
   "metadata": {},
   "outputs": [],
   "source": [
    "# number of leading zeros can be calculated by subtracting the length of the string l-stripped off the leading zeros from the total length of the string\n",
    "df[\"leading_zeros\"] = df[\"PassportNumber\"].apply(lambda x: len(x) - len(x.lstrip(\"0\")))"
   ]
  },
  {
   "cell_type": "code",
   "execution_count": 17,
   "metadata": {},
   "outputs": [],
   "source": [
    "# similarly the number of the trailing zeros can be calculated by subtracting the length of the string r-stripped off the leading zeros from the total length of the string\n",
    "df[\"trailing_zeros\"] = df[\"PassportNumber\"].apply(lambda x: len(x) - len(x.rstrip(\"0\")))"
   ]
  },
  {
   "cell_type": "markdown",
   "metadata": {},
   "source": [
    "Zeros are valid part of the passport pattern. They can definitely appear at the end, but I haven't been able to confirm if the passport number can start with zero. Let's assume it cannot. According to ICAO standard the passport number cannot exceed 9 characters. Let's check if all the passport longer than 9 characters contain only zeros"
   ]
  },
  {
   "cell_type": "code",
   "execution_count": 18,
   "metadata": {},
   "outputs": [
    {
     "data": {
      "text/html": [
       "<div>\n",
       "<style scoped>\n",
       "    .dataframe tbody tr th:only-of-type {\n",
       "        vertical-align: middle;\n",
       "    }\n",
       "\n",
       "    .dataframe tbody tr th {\n",
       "        vertical-align: top;\n",
       "    }\n",
       "\n",
       "    .dataframe thead th {\n",
       "        text-align: right;\n",
       "    }\n",
       "</style>\n",
       "<table border=\"1\" class=\"dataframe\">\n",
       "  <thead>\n",
       "    <tr style=\"text-align: right;\">\n",
       "      <th></th>\n",
       "      <th>PassportNumber</th>\n",
       "      <th>len</th>\n",
       "      <th>leading_zeros</th>\n",
       "      <th>trailing_zeros</th>\n",
       "    </tr>\n",
       "  </thead>\n",
       "  <tbody>\n",
       "    <tr>\n",
       "      <td>20</td>\n",
       "      <td>73846290957</td>\n",
       "      <td>11</td>\n",
       "      <td>0</td>\n",
       "      <td>0</td>\n",
       "    </tr>\n",
       "    <tr>\n",
       "      <td>40</td>\n",
       "      <td>N614226700</td>\n",
       "      <td>10</td>\n",
       "      <td>0</td>\n",
       "      <td>2</td>\n",
       "    </tr>\n",
       "    <tr>\n",
       "      <td>54</td>\n",
       "      <td>WC76717593</td>\n",
       "      <td>10</td>\n",
       "      <td>0</td>\n",
       "      <td>0</td>\n",
       "    </tr>\n",
       "    <tr>\n",
       "      <td>443</td>\n",
       "      <td>ZC464204933</td>\n",
       "      <td>11</td>\n",
       "      <td>0</td>\n",
       "      <td>0</td>\n",
       "    </tr>\n",
       "    <tr>\n",
       "      <td>473</td>\n",
       "      <td>R518348872</td>\n",
       "      <td>10</td>\n",
       "      <td>0</td>\n",
       "      <td>0</td>\n",
       "    </tr>\n",
       "    <tr>\n",
       "      <td>...</td>\n",
       "      <td>...</td>\n",
       "      <td>...</td>\n",
       "      <td>...</td>\n",
       "      <td>...</td>\n",
       "    </tr>\n",
       "    <tr>\n",
       "      <td>10234</td>\n",
       "      <td>0055123691</td>\n",
       "      <td>10</td>\n",
       "      <td>2</td>\n",
       "      <td>0</td>\n",
       "    </tr>\n",
       "    <tr>\n",
       "      <td>10334</td>\n",
       "      <td>XW66811820</td>\n",
       "      <td>10</td>\n",
       "      <td>0</td>\n",
       "      <td>1</td>\n",
       "    </tr>\n",
       "    <tr>\n",
       "      <td>10714</td>\n",
       "      <td>D759875000</td>\n",
       "      <td>10</td>\n",
       "      <td>0</td>\n",
       "      <td>3</td>\n",
       "    </tr>\n",
       "    <tr>\n",
       "      <td>10752</td>\n",
       "      <td>ZU28646829</td>\n",
       "      <td>10</td>\n",
       "      <td>0</td>\n",
       "      <td>0</td>\n",
       "    </tr>\n",
       "    <tr>\n",
       "      <td>10897</td>\n",
       "      <td>605716514158</td>\n",
       "      <td>12</td>\n",
       "      <td>0</td>\n",
       "      <td>0</td>\n",
       "    </tr>\n",
       "  </tbody>\n",
       "</table>\n",
       "<p>706 rows × 4 columns</p>\n",
       "</div>"
      ],
      "text/plain": [
       "      PassportNumber  len  leading_zeros  trailing_zeros\n",
       "20       73846290957   11              0               0\n",
       "40        N614226700   10              0               2\n",
       "54        WC76717593   10              0               0\n",
       "443      ZC464204933   11              0               0\n",
       "473       R518348872   10              0               0\n",
       "...              ...  ...            ...             ...\n",
       "10234     0055123691   10              2               0\n",
       "10334     XW66811820   10              0               1\n",
       "10714     D759875000   10              0               3\n",
       "10752     ZU28646829   10              0               0\n",
       "10897   605716514158   12              0               0\n",
       "\n",
       "[706 rows x 4 columns]"
      ]
     },
     "execution_count": 18,
     "metadata": {},
     "output_type": "execute_result"
    }
   ],
   "source": [
    "df[df[\"len\"]>9]"
   ]
  },
  {
   "cell_type": "markdown",
   "metadata": {},
   "source": [
    "With simply displaying few passport over 9 characters we see, that they don't only contain zeros at the end. So what is the distribution of the zeros? To look at it we will do an overview how often a zero appears at each position and when there's a different character. "
   ]
  },
  {
   "cell_type": "code",
   "execution_count": 19,
   "metadata": {},
   "outputs": [],
   "source": [
    "passports_list = []\n",
    "# for each passport number\n",
    "for passport_number in df[\"PassportNumber\"]:\n",
    "    # let's create a dictionary with the passport number\n",
    "    pos = {\"PassportNumber\": passport_number}\n",
    "    # and let's add to each position if it's a zero or not\n",
    "    for i, c in enumerate(passport_number):      \n",
    "        # and for each position check if it's 0 -> 1 (true) or something else --> 0 (false)\n",
    "        pos[i+1] = True if c == \"0\" else False\n",
    "    passports_list.append(pos)"
   ]
  },
  {
   "cell_type": "code",
   "execution_count": 20,
   "metadata": {},
   "outputs": [],
   "source": [
    "def highlight_true(val):\n",
    "    return 'background-color: yellow' if val == 1 else ''"
   ]
  },
  {
   "cell_type": "code",
   "execution_count": 21,
   "metadata": {},
   "outputs": [
    {
     "data": {
      "text/html": [
       "<style  type=\"text/css\" >\n",
       "    #T_7e9ad268_bfca_11ea_ac6c_50e08598ebb6row1_col1 {\n",
       "            background-color:  yellow;\n",
       "        }    #T_7e9ad268_bfca_11ea_ac6c_50e08598ebb6row1_col4 {\n",
       "            background-color:  yellow;\n",
       "        }    #T_7e9ad268_bfca_11ea_ac6c_50e08598ebb6row2_col6 {\n",
       "            background-color:  yellow;\n",
       "        }    #T_7e9ad268_bfca_11ea_ac6c_50e08598ebb6row2_col8 {\n",
       "            background-color:  yellow;\n",
       "        }    #T_7e9ad268_bfca_11ea_ac6c_50e08598ebb6row4_col1 {\n",
       "            background-color:  yellow;\n",
       "        }    #T_7e9ad268_bfca_11ea_ac6c_50e08598ebb6row4_col3 {\n",
       "            background-color:  yellow;\n",
       "        }</style><table id=\"T_7e9ad268_bfca_11ea_ac6c_50e08598ebb6\" ><thead>    <tr>        <th class=\"blank level0\" ></th>        <th class=\"col_heading level0 col0\" >PassportNumber</th>        <th class=\"col_heading level0 col1\" >1</th>        <th class=\"col_heading level0 col2\" >2</th>        <th class=\"col_heading level0 col3\" >3</th>        <th class=\"col_heading level0 col4\" >4</th>        <th class=\"col_heading level0 col5\" >5</th>        <th class=\"col_heading level0 col6\" >6</th>        <th class=\"col_heading level0 col7\" >7</th>        <th class=\"col_heading level0 col8\" >8</th>        <th class=\"col_heading level0 col9\" >9</th>        <th class=\"col_heading level0 col10\" >10</th>        <th class=\"col_heading level0 col11\" >11</th>        <th class=\"col_heading level0 col12\" >12</th>        <th class=\"col_heading level0 col13\" >13</th>        <th class=\"col_heading level0 col14\" >14</th>        <th class=\"col_heading level0 col15\" >15</th>        <th class=\"col_heading level0 col16\" >16</th>        <th class=\"col_heading level0 col17\" >17</th>        <th class=\"col_heading level0 col18\" >len</th>    </tr></thead><tbody>\n",
       "                <tr>\n",
       "                        <th id=\"T_7e9ad268_bfca_11ea_ac6c_50e08598ebb6level0_row0\" class=\"row_heading level0 row0\" >6554</th>\n",
       "                        <td id=\"T_7e9ad268_bfca_11ea_ac6c_50e08598ebb6row0_col0\" class=\"data row0 col0\" >45798</td>\n",
       "                        <td id=\"T_7e9ad268_bfca_11ea_ac6c_50e08598ebb6row0_col1\" class=\"data row0 col1\" >False</td>\n",
       "                        <td id=\"T_7e9ad268_bfca_11ea_ac6c_50e08598ebb6row0_col2\" class=\"data row0 col2\" >False</td>\n",
       "                        <td id=\"T_7e9ad268_bfca_11ea_ac6c_50e08598ebb6row0_col3\" class=\"data row0 col3\" >False</td>\n",
       "                        <td id=\"T_7e9ad268_bfca_11ea_ac6c_50e08598ebb6row0_col4\" class=\"data row0 col4\" >False</td>\n",
       "                        <td id=\"T_7e9ad268_bfca_11ea_ac6c_50e08598ebb6row0_col5\" class=\"data row0 col5\" >False</td>\n",
       "                        <td id=\"T_7e9ad268_bfca_11ea_ac6c_50e08598ebb6row0_col6\" class=\"data row0 col6\" >nan</td>\n",
       "                        <td id=\"T_7e9ad268_bfca_11ea_ac6c_50e08598ebb6row0_col7\" class=\"data row0 col7\" >nan</td>\n",
       "                        <td id=\"T_7e9ad268_bfca_11ea_ac6c_50e08598ebb6row0_col8\" class=\"data row0 col8\" >nan</td>\n",
       "                        <td id=\"T_7e9ad268_bfca_11ea_ac6c_50e08598ebb6row0_col9\" class=\"data row0 col9\" >nan</td>\n",
       "                        <td id=\"T_7e9ad268_bfca_11ea_ac6c_50e08598ebb6row0_col10\" class=\"data row0 col10\" >nan</td>\n",
       "                        <td id=\"T_7e9ad268_bfca_11ea_ac6c_50e08598ebb6row0_col11\" class=\"data row0 col11\" >nan</td>\n",
       "                        <td id=\"T_7e9ad268_bfca_11ea_ac6c_50e08598ebb6row0_col12\" class=\"data row0 col12\" >nan</td>\n",
       "                        <td id=\"T_7e9ad268_bfca_11ea_ac6c_50e08598ebb6row0_col13\" class=\"data row0 col13\" >nan</td>\n",
       "                        <td id=\"T_7e9ad268_bfca_11ea_ac6c_50e08598ebb6row0_col14\" class=\"data row0 col14\" >nan</td>\n",
       "                        <td id=\"T_7e9ad268_bfca_11ea_ac6c_50e08598ebb6row0_col15\" class=\"data row0 col15\" >nan</td>\n",
       "                        <td id=\"T_7e9ad268_bfca_11ea_ac6c_50e08598ebb6row0_col16\" class=\"data row0 col16\" >nan</td>\n",
       "                        <td id=\"T_7e9ad268_bfca_11ea_ac6c_50e08598ebb6row0_col17\" class=\"data row0 col17\" >nan</td>\n",
       "                        <td id=\"T_7e9ad268_bfca_11ea_ac6c_50e08598ebb6row0_col18\" class=\"data row0 col18\" >5</td>\n",
       "            </tr>\n",
       "            <tr>\n",
       "                        <th id=\"T_7e9ad268_bfca_11ea_ac6c_50e08598ebb6level0_row1\" class=\"row_heading level0 row1\" >10820</th>\n",
       "                        <td id=\"T_7e9ad268_bfca_11ea_ac6c_50e08598ebb6row1_col0\" class=\"data row1 col0\" >0850214</td>\n",
       "                        <td id=\"T_7e9ad268_bfca_11ea_ac6c_50e08598ebb6row1_col1\" class=\"data row1 col1\" >True</td>\n",
       "                        <td id=\"T_7e9ad268_bfca_11ea_ac6c_50e08598ebb6row1_col2\" class=\"data row1 col2\" >False</td>\n",
       "                        <td id=\"T_7e9ad268_bfca_11ea_ac6c_50e08598ebb6row1_col3\" class=\"data row1 col3\" >False</td>\n",
       "                        <td id=\"T_7e9ad268_bfca_11ea_ac6c_50e08598ebb6row1_col4\" class=\"data row1 col4\" >True</td>\n",
       "                        <td id=\"T_7e9ad268_bfca_11ea_ac6c_50e08598ebb6row1_col5\" class=\"data row1 col5\" >False</td>\n",
       "                        <td id=\"T_7e9ad268_bfca_11ea_ac6c_50e08598ebb6row1_col6\" class=\"data row1 col6\" >False</td>\n",
       "                        <td id=\"T_7e9ad268_bfca_11ea_ac6c_50e08598ebb6row1_col7\" class=\"data row1 col7\" >False</td>\n",
       "                        <td id=\"T_7e9ad268_bfca_11ea_ac6c_50e08598ebb6row1_col8\" class=\"data row1 col8\" >nan</td>\n",
       "                        <td id=\"T_7e9ad268_bfca_11ea_ac6c_50e08598ebb6row1_col9\" class=\"data row1 col9\" >nan</td>\n",
       "                        <td id=\"T_7e9ad268_bfca_11ea_ac6c_50e08598ebb6row1_col10\" class=\"data row1 col10\" >nan</td>\n",
       "                        <td id=\"T_7e9ad268_bfca_11ea_ac6c_50e08598ebb6row1_col11\" class=\"data row1 col11\" >nan</td>\n",
       "                        <td id=\"T_7e9ad268_bfca_11ea_ac6c_50e08598ebb6row1_col12\" class=\"data row1 col12\" >nan</td>\n",
       "                        <td id=\"T_7e9ad268_bfca_11ea_ac6c_50e08598ebb6row1_col13\" class=\"data row1 col13\" >nan</td>\n",
       "                        <td id=\"T_7e9ad268_bfca_11ea_ac6c_50e08598ebb6row1_col14\" class=\"data row1 col14\" >nan</td>\n",
       "                        <td id=\"T_7e9ad268_bfca_11ea_ac6c_50e08598ebb6row1_col15\" class=\"data row1 col15\" >nan</td>\n",
       "                        <td id=\"T_7e9ad268_bfca_11ea_ac6c_50e08598ebb6row1_col16\" class=\"data row1 col16\" >nan</td>\n",
       "                        <td id=\"T_7e9ad268_bfca_11ea_ac6c_50e08598ebb6row1_col17\" class=\"data row1 col17\" >nan</td>\n",
       "                        <td id=\"T_7e9ad268_bfca_11ea_ac6c_50e08598ebb6row1_col18\" class=\"data row1 col18\" >7</td>\n",
       "            </tr>\n",
       "            <tr>\n",
       "                        <th id=\"T_7e9ad268_bfca_11ea_ac6c_50e08598ebb6level0_row2\" class=\"row_heading level0 row2\" >1413</th>\n",
       "                        <td id=\"T_7e9ad268_bfca_11ea_ac6c_50e08598ebb6row2_col0\" class=\"data row2 col0\" >X3841020</td>\n",
       "                        <td id=\"T_7e9ad268_bfca_11ea_ac6c_50e08598ebb6row2_col1\" class=\"data row2 col1\" >False</td>\n",
       "                        <td id=\"T_7e9ad268_bfca_11ea_ac6c_50e08598ebb6row2_col2\" class=\"data row2 col2\" >False</td>\n",
       "                        <td id=\"T_7e9ad268_bfca_11ea_ac6c_50e08598ebb6row2_col3\" class=\"data row2 col3\" >False</td>\n",
       "                        <td id=\"T_7e9ad268_bfca_11ea_ac6c_50e08598ebb6row2_col4\" class=\"data row2 col4\" >False</td>\n",
       "                        <td id=\"T_7e9ad268_bfca_11ea_ac6c_50e08598ebb6row2_col5\" class=\"data row2 col5\" >False</td>\n",
       "                        <td id=\"T_7e9ad268_bfca_11ea_ac6c_50e08598ebb6row2_col6\" class=\"data row2 col6\" >True</td>\n",
       "                        <td id=\"T_7e9ad268_bfca_11ea_ac6c_50e08598ebb6row2_col7\" class=\"data row2 col7\" >False</td>\n",
       "                        <td id=\"T_7e9ad268_bfca_11ea_ac6c_50e08598ebb6row2_col8\" class=\"data row2 col8\" >True</td>\n",
       "                        <td id=\"T_7e9ad268_bfca_11ea_ac6c_50e08598ebb6row2_col9\" class=\"data row2 col9\" >nan</td>\n",
       "                        <td id=\"T_7e9ad268_bfca_11ea_ac6c_50e08598ebb6row2_col10\" class=\"data row2 col10\" >nan</td>\n",
       "                        <td id=\"T_7e9ad268_bfca_11ea_ac6c_50e08598ebb6row2_col11\" class=\"data row2 col11\" >nan</td>\n",
       "                        <td id=\"T_7e9ad268_bfca_11ea_ac6c_50e08598ebb6row2_col12\" class=\"data row2 col12\" >nan</td>\n",
       "                        <td id=\"T_7e9ad268_bfca_11ea_ac6c_50e08598ebb6row2_col13\" class=\"data row2 col13\" >nan</td>\n",
       "                        <td id=\"T_7e9ad268_bfca_11ea_ac6c_50e08598ebb6row2_col14\" class=\"data row2 col14\" >nan</td>\n",
       "                        <td id=\"T_7e9ad268_bfca_11ea_ac6c_50e08598ebb6row2_col15\" class=\"data row2 col15\" >nan</td>\n",
       "                        <td id=\"T_7e9ad268_bfca_11ea_ac6c_50e08598ebb6row2_col16\" class=\"data row2 col16\" >nan</td>\n",
       "                        <td id=\"T_7e9ad268_bfca_11ea_ac6c_50e08598ebb6row2_col17\" class=\"data row2 col17\" >nan</td>\n",
       "                        <td id=\"T_7e9ad268_bfca_11ea_ac6c_50e08598ebb6row2_col18\" class=\"data row2 col18\" >8</td>\n",
       "            </tr>\n",
       "            <tr>\n",
       "                        <th id=\"T_7e9ad268_bfca_11ea_ac6c_50e08598ebb6level0_row3\" class=\"row_heading level0 row3\" >8436</th>\n",
       "                        <td id=\"T_7e9ad268_bfca_11ea_ac6c_50e08598ebb6row3_col0\" class=\"data row3 col0\" >6665442</td>\n",
       "                        <td id=\"T_7e9ad268_bfca_11ea_ac6c_50e08598ebb6row3_col1\" class=\"data row3 col1\" >False</td>\n",
       "                        <td id=\"T_7e9ad268_bfca_11ea_ac6c_50e08598ebb6row3_col2\" class=\"data row3 col2\" >False</td>\n",
       "                        <td id=\"T_7e9ad268_bfca_11ea_ac6c_50e08598ebb6row3_col3\" class=\"data row3 col3\" >False</td>\n",
       "                        <td id=\"T_7e9ad268_bfca_11ea_ac6c_50e08598ebb6row3_col4\" class=\"data row3 col4\" >False</td>\n",
       "                        <td id=\"T_7e9ad268_bfca_11ea_ac6c_50e08598ebb6row3_col5\" class=\"data row3 col5\" >False</td>\n",
       "                        <td id=\"T_7e9ad268_bfca_11ea_ac6c_50e08598ebb6row3_col6\" class=\"data row3 col6\" >False</td>\n",
       "                        <td id=\"T_7e9ad268_bfca_11ea_ac6c_50e08598ebb6row3_col7\" class=\"data row3 col7\" >False</td>\n",
       "                        <td id=\"T_7e9ad268_bfca_11ea_ac6c_50e08598ebb6row3_col8\" class=\"data row3 col8\" >nan</td>\n",
       "                        <td id=\"T_7e9ad268_bfca_11ea_ac6c_50e08598ebb6row3_col9\" class=\"data row3 col9\" >nan</td>\n",
       "                        <td id=\"T_7e9ad268_bfca_11ea_ac6c_50e08598ebb6row3_col10\" class=\"data row3 col10\" >nan</td>\n",
       "                        <td id=\"T_7e9ad268_bfca_11ea_ac6c_50e08598ebb6row3_col11\" class=\"data row3 col11\" >nan</td>\n",
       "                        <td id=\"T_7e9ad268_bfca_11ea_ac6c_50e08598ebb6row3_col12\" class=\"data row3 col12\" >nan</td>\n",
       "                        <td id=\"T_7e9ad268_bfca_11ea_ac6c_50e08598ebb6row3_col13\" class=\"data row3 col13\" >nan</td>\n",
       "                        <td id=\"T_7e9ad268_bfca_11ea_ac6c_50e08598ebb6row3_col14\" class=\"data row3 col14\" >nan</td>\n",
       "                        <td id=\"T_7e9ad268_bfca_11ea_ac6c_50e08598ebb6row3_col15\" class=\"data row3 col15\" >nan</td>\n",
       "                        <td id=\"T_7e9ad268_bfca_11ea_ac6c_50e08598ebb6row3_col16\" class=\"data row3 col16\" >nan</td>\n",
       "                        <td id=\"T_7e9ad268_bfca_11ea_ac6c_50e08598ebb6row3_col17\" class=\"data row3 col17\" >nan</td>\n",
       "                        <td id=\"T_7e9ad268_bfca_11ea_ac6c_50e08598ebb6row3_col18\" class=\"data row3 col18\" >7</td>\n",
       "            </tr>\n",
       "            <tr>\n",
       "                        <th id=\"T_7e9ad268_bfca_11ea_ac6c_50e08598ebb6level0_row4\" class=\"row_heading level0 row4\" >4856</th>\n",
       "                        <td id=\"T_7e9ad268_bfca_11ea_ac6c_50e08598ebb6row4_col0\" class=\"data row4 col0\" >0308453</td>\n",
       "                        <td id=\"T_7e9ad268_bfca_11ea_ac6c_50e08598ebb6row4_col1\" class=\"data row4 col1\" >True</td>\n",
       "                        <td id=\"T_7e9ad268_bfca_11ea_ac6c_50e08598ebb6row4_col2\" class=\"data row4 col2\" >False</td>\n",
       "                        <td id=\"T_7e9ad268_bfca_11ea_ac6c_50e08598ebb6row4_col3\" class=\"data row4 col3\" >True</td>\n",
       "                        <td id=\"T_7e9ad268_bfca_11ea_ac6c_50e08598ebb6row4_col4\" class=\"data row4 col4\" >False</td>\n",
       "                        <td id=\"T_7e9ad268_bfca_11ea_ac6c_50e08598ebb6row4_col5\" class=\"data row4 col5\" >False</td>\n",
       "                        <td id=\"T_7e9ad268_bfca_11ea_ac6c_50e08598ebb6row4_col6\" class=\"data row4 col6\" >False</td>\n",
       "                        <td id=\"T_7e9ad268_bfca_11ea_ac6c_50e08598ebb6row4_col7\" class=\"data row4 col7\" >False</td>\n",
       "                        <td id=\"T_7e9ad268_bfca_11ea_ac6c_50e08598ebb6row4_col8\" class=\"data row4 col8\" >nan</td>\n",
       "                        <td id=\"T_7e9ad268_bfca_11ea_ac6c_50e08598ebb6row4_col9\" class=\"data row4 col9\" >nan</td>\n",
       "                        <td id=\"T_7e9ad268_bfca_11ea_ac6c_50e08598ebb6row4_col10\" class=\"data row4 col10\" >nan</td>\n",
       "                        <td id=\"T_7e9ad268_bfca_11ea_ac6c_50e08598ebb6row4_col11\" class=\"data row4 col11\" >nan</td>\n",
       "                        <td id=\"T_7e9ad268_bfca_11ea_ac6c_50e08598ebb6row4_col12\" class=\"data row4 col12\" >nan</td>\n",
       "                        <td id=\"T_7e9ad268_bfca_11ea_ac6c_50e08598ebb6row4_col13\" class=\"data row4 col13\" >nan</td>\n",
       "                        <td id=\"T_7e9ad268_bfca_11ea_ac6c_50e08598ebb6row4_col14\" class=\"data row4 col14\" >nan</td>\n",
       "                        <td id=\"T_7e9ad268_bfca_11ea_ac6c_50e08598ebb6row4_col15\" class=\"data row4 col15\" >nan</td>\n",
       "                        <td id=\"T_7e9ad268_bfca_11ea_ac6c_50e08598ebb6row4_col16\" class=\"data row4 col16\" >nan</td>\n",
       "                        <td id=\"T_7e9ad268_bfca_11ea_ac6c_50e08598ebb6row4_col17\" class=\"data row4 col17\" >nan</td>\n",
       "                        <td id=\"T_7e9ad268_bfca_11ea_ac6c_50e08598ebb6row4_col18\" class=\"data row4 col18\" >7</td>\n",
       "            </tr>\n",
       "    </tbody></table>"
      ],
      "text/plain": [
       "<pandas.io.formats.style.Styler at 0x22790e4b308>"
      ]
     },
     "execution_count": 21,
     "metadata": {},
     "output_type": "execute_result"
    }
   ],
   "source": [
    "zeros_distribution = pd.DataFrame(passports_list)\n",
    "zeros_distribution[\"len\"] = zeros_distribution[\"PassportNumber\"].apply(len)\n",
    "zeros_distribution.sample(5).style.applymap(highlight_true, subset=list(range(1,18)))"
   ]
  },
  {
   "cell_type": "markdown",
   "metadata": {},
   "source": [
    "The dataset above contains 1 for every position when there's zero and 0 (false) if there's a different character. N/A appears in case, the passport number doesn't contain any character on that position. "
   ]
  },
  {
   "cell_type": "code",
   "execution_count": 22,
   "metadata": {},
   "outputs": [
    {
     "data": {
      "text/html": [
       "<div>\n",
       "<style scoped>\n",
       "    .dataframe tbody tr th:only-of-type {\n",
       "        vertical-align: middle;\n",
       "    }\n",
       "\n",
       "    .dataframe tbody tr th {\n",
       "        vertical-align: top;\n",
       "    }\n",
       "\n",
       "    .dataframe thead th {\n",
       "        text-align: right;\n",
       "    }\n",
       "</style>\n",
       "<table border=\"1\" class=\"dataframe\">\n",
       "  <thead>\n",
       "    <tr style=\"text-align: right;\">\n",
       "      <th></th>\n",
       "      <th>is_zero</th>\n",
       "      <th>is_filled</th>\n",
       "      <th>is_not_zero</th>\n",
       "      <th>perc</th>\n",
       "    </tr>\n",
       "  </thead>\n",
       "  <tbody>\n",
       "    <tr>\n",
       "      <td>1</td>\n",
       "      <td>732.0</td>\n",
       "      <td>10895</td>\n",
       "      <td>10163.0</td>\n",
       "      <td>0.067187</td>\n",
       "    </tr>\n",
       "    <tr>\n",
       "      <td>2</td>\n",
       "      <td>1108.0</td>\n",
       "      <td>10895</td>\n",
       "      <td>9787.0</td>\n",
       "      <td>0.101698</td>\n",
       "    </tr>\n",
       "    <tr>\n",
       "      <td>3</td>\n",
       "      <td>1001.0</td>\n",
       "      <td>10895</td>\n",
       "      <td>9894.0</td>\n",
       "      <td>0.091877</td>\n",
       "    </tr>\n",
       "    <tr>\n",
       "      <td>4</td>\n",
       "      <td>1007.0</td>\n",
       "      <td>10892</td>\n",
       "      <td>9885.0</td>\n",
       "      <td>0.092453</td>\n",
       "    </tr>\n",
       "    <tr>\n",
       "      <td>5</td>\n",
       "      <td>1126.0</td>\n",
       "      <td>10871</td>\n",
       "      <td>9745.0</td>\n",
       "      <td>0.103578</td>\n",
       "    </tr>\n",
       "    <tr>\n",
       "      <td>6</td>\n",
       "      <td>1146.0</td>\n",
       "      <td>10791</td>\n",
       "      <td>9645.0</td>\n",
       "      <td>0.106200</td>\n",
       "    </tr>\n",
       "    <tr>\n",
       "      <td>7</td>\n",
       "      <td>1419.0</td>\n",
       "      <td>10486</td>\n",
       "      <td>9067.0</td>\n",
       "      <td>0.135323</td>\n",
       "    </tr>\n",
       "    <tr>\n",
       "      <td>8</td>\n",
       "      <td>844.0</td>\n",
       "      <td>5967</td>\n",
       "      <td>5123.0</td>\n",
       "      <td>0.141445</td>\n",
       "    </tr>\n",
       "    <tr>\n",
       "      <td>9</td>\n",
       "      <td>551.0</td>\n",
       "      <td>3258</td>\n",
       "      <td>2707.0</td>\n",
       "      <td>0.169122</td>\n",
       "    </tr>\n",
       "    <tr>\n",
       "      <td>10</td>\n",
       "      <td>101.0</td>\n",
       "      <td>706</td>\n",
       "      <td>605.0</td>\n",
       "      <td>0.143059</td>\n",
       "    </tr>\n",
       "    <tr>\n",
       "      <td>11</td>\n",
       "      <td>88.0</td>\n",
       "      <td>562</td>\n",
       "      <td>474.0</td>\n",
       "      <td>0.156584</td>\n",
       "    </tr>\n",
       "    <tr>\n",
       "      <td>12</td>\n",
       "      <td>109.0</td>\n",
       "      <td>496</td>\n",
       "      <td>387.0</td>\n",
       "      <td>0.219758</td>\n",
       "    </tr>\n",
       "    <tr>\n",
       "      <td>13</td>\n",
       "      <td>2.0</td>\n",
       "      <td>10</td>\n",
       "      <td>8.0</td>\n",
       "      <td>0.200000</td>\n",
       "    </tr>\n",
       "    <tr>\n",
       "      <td>14</td>\n",
       "      <td>3.0</td>\n",
       "      <td>9</td>\n",
       "      <td>6.0</td>\n",
       "      <td>0.333333</td>\n",
       "    </tr>\n",
       "    <tr>\n",
       "      <td>15</td>\n",
       "      <td>5.0</td>\n",
       "      <td>8</td>\n",
       "      <td>3.0</td>\n",
       "      <td>0.625000</td>\n",
       "    </tr>\n",
       "    <tr>\n",
       "      <td>16</td>\n",
       "      <td>3.0</td>\n",
       "      <td>3</td>\n",
       "      <td>0.0</td>\n",
       "      <td>1.000000</td>\n",
       "    </tr>\n",
       "    <tr>\n",
       "      <td>17</td>\n",
       "      <td>2.0</td>\n",
       "      <td>2</td>\n",
       "      <td>0.0</td>\n",
       "      <td>1.000000</td>\n",
       "    </tr>\n",
       "  </tbody>\n",
       "</table>\n",
       "</div>"
      ],
      "text/plain": [
       "    is_zero  is_filled  is_not_zero      perc\n",
       "1     732.0      10895      10163.0  0.067187\n",
       "2    1108.0      10895       9787.0  0.101698\n",
       "3    1001.0      10895       9894.0  0.091877\n",
       "4    1007.0      10892       9885.0  0.092453\n",
       "5    1126.0      10871       9745.0  0.103578\n",
       "6    1146.0      10791       9645.0  0.106200\n",
       "7    1419.0      10486       9067.0  0.135323\n",
       "8     844.0       5967       5123.0  0.141445\n",
       "9     551.0       3258       2707.0  0.169122\n",
       "10    101.0        706        605.0  0.143059\n",
       "11     88.0        562        474.0  0.156584\n",
       "12    109.0        496        387.0  0.219758\n",
       "13      2.0         10          8.0  0.200000\n",
       "14      3.0          9          6.0  0.333333\n",
       "15      5.0          8          3.0  0.625000\n",
       "16      3.0          3          0.0  1.000000\n",
       "17      2.0          2          0.0  1.000000"
      ]
     },
     "execution_count": 22,
     "metadata": {},
     "output_type": "execute_result"
    }
   ],
   "source": [
    "zero_count = zeros_distribution[range(1,18)].sum()\n",
    "zero_count.name = \"is_zero\"\n",
    "position_filled_count = zeros_distribution[range(1,18)].count()\n",
    "position_filled_count.name = \"is_filled\"\n",
    "zeros_distribution_df = pd.concat([zero_count,position_filled_count], axis=1)\n",
    "zeros_distribution_df[\"is_not_zero\"] = zeros_distribution_df[\"is_filled\"]-zeros_distribution_df[\"is_zero\"]\n",
    "zeros_distribution_df[\"perc\"] = zeros_distribution_df[\"is_zero\"]/zeros_distribution_df[\"is_filled\"]\n",
    "zeros_distribution_df"
   ]
  },
  {
   "cell_type": "markdown",
   "metadata": {},
   "source": [
    "That's do that information we can easily count zero at each position using .sum() (remember that 1 appears in case there's a zero in the passport number otherwise there's 0), total number of passport which have this position filled in by .count() (N/A are not counted). This information can easily be plotted."
   ]
  },
  {
   "cell_type": "code",
   "execution_count": 23,
   "metadata": {},
   "outputs": [
    {
     "data": {
      "image/png": "[encoded data removed]",
      "text/plain": [
       "<Figure size 1080x360 with 4 Axes>"
      ]
     },
     "metadata": {
      "needs_background": "light"
     },
     "output_type": "display_data"
    }
   ],
   "source": [
    "fig, ax = plt.subplots(2,2, figsize=(15,5))\n",
    "zeros_distribution_df.loc[zeros_distribution_df.index>9,[\"is_zero\",\"is_not_zero\"]].plot(kind='bar', stacked=True, ax=ax[0,0])\n",
    "ax[0,0].set_title(\"Zeros on positions above 9 characters\")\n",
    "zeros_distribution_df.loc[zeros_distribution_df.index>12,[\"is_zero\",\"is_not_zero\"]].plot(kind='bar', stacked=True, ax=ax[0,1])\n",
    "ax[0,1].set_title(\"Zeros on positions above 12 characters\")\n",
    "zeros_distribution_df.loc[zeros_distribution_df.index>9,[\"perc\"]].plot(kind='bar', ax=ax[1,0])\n",
    "ax[1,0].set_title(\"Percentage of zeros\")\n",
    "for p in ax[1,0].patches:\n",
    "    ax[1,0].annotate(\"{:.0%}\".format(p.get_height()), (p.get_x() * 1.05, p.get_height() * 1.02))\n",
    "zeros_distribution_df.loc[zeros_distribution_df.index>12,[\"perc\"]].plot(kind='bar', stacked=True, ax=ax[1,1])\n",
    "ax[1,1].set_title(\"Percentage of zeros\")\n",
    "for p in ax[1,1].patches:\n",
    "    ax[1,1].annotate(\"{:.0%}\".format(p.get_height()), (p.get_x() * 1.05, p.get_height() * 1.02))\n",
    "plt.tight_layout()\n",
    "plt.show()"
   ]
  },
  {
   "cell_type": "markdown",
   "metadata": {},
   "source": [
    "We see that except for positions 16 and 17, there are mostly different characters than zeros. It can howerver mean that we have combination of leading and trailing zeros both. To check it, let's remove the zeros on both ends using .strip(\"0\")"
   ]
  },
  {
   "cell_type": "code",
   "execution_count": 24,
   "metadata": {},
   "outputs": [],
   "source": [
    "df[\"len_without_zeros\"] = df[\"PassportNumber\"].str.strip(\"0\").apply(len)"
   ]
  },
  {
   "cell_type": "code",
   "execution_count": 25,
   "metadata": {},
   "outputs": [
    {
     "data": {
      "image/png": "[encoded data removed]",
      "text/plain": [
       "<Figure size 432x288 with 1 Axes>"
      ]
     },
     "metadata": {
      "needs_background": "light"
     },
     "output_type": "display_data"
    }
   ],
   "source": [
    "ax = df[\"len_without_zeros\"].value_counts().sort_index().plot(kind=\"bar\")\n",
    "ax.set_xlabel(\"position\")\n",
    "ax.set_ylabel(\"number of records\")\n",
    "for p in ax.patches:\n",
    "    ax.annotate(str(p.get_height()), (p.get_x() * 1.05, p.get_height() * 1.02))\n",
    "plt.title(\"Length of passport numbers after stripping of zeros\")\n",
    "plt.show()"
   ]
  },
  {
   "cell_type": "markdown",
   "metadata": {},
   "source": [
    "Yes. Even the passports which are stripped from the leading and trainling zeros are longer than 9 characters. "
   ]
  },
  {
   "cell_type": "markdown",
   "metadata": {},
   "source": [
    "## Letters in the passport numbers\n",
    "To review string patterns it is helpful to use the power of the regular expression. Even though their syntax is a bit cumbersome, once correctly used, they can be very quick and efficient"
   ]
  },
  {
   "cell_type": "code",
   "execution_count": 26,
   "metadata": {},
   "outputs": [],
   "source": [
    "import re"
   ]
  },
  {
   "cell_type": "markdown",
   "metadata": {},
   "source": [
    "Let's first explore how many passport numbers **start with a letter**. "
   ]
  },
  {
   "cell_type": "code",
   "execution_count": 27,
   "metadata": {},
   "outputs": [],
   "source": [
    "df[\"starts_with_letter\"] = df[\"PassportNumber\"].apply(lambda x: True if re.match(\"^[a-zA-Z]+.*\", x) else False)"
   ]
  },
  {
   "cell_type": "code",
   "execution_count": 28,
   "metadata": {},
   "outputs": [
    {
     "data": {
      "text/html": [
       "<style  type=\"text/css\" >\n",
       "</style><table id=\"T_7f79619c_bfca_11ea_9522_50e08598ebb6\" ><thead>    <tr>        <th class=\"blank level0\" ></th>        <th class=\"col_heading level0 col0\" >count</th>        <th class=\"col_heading level0 col1\" >percentage</th>    </tr></thead><tbody>\n",
       "                <tr>\n",
       "                        <th id=\"T_7f79619c_bfca_11ea_9522_50e08598ebb6level0_row0\" class=\"row_heading level0 row0\" >True</th>\n",
       "                        <td id=\"T_7f79619c_bfca_11ea_9522_50e08598ebb6row0_col0\" class=\"data row0 col0\" >6415</td>\n",
       "                        <td id=\"T_7f79619c_bfca_11ea_9522_50e08598ebb6row0_col1\" class=\"data row0 col1\" >58.88%</td>\n",
       "            </tr>\n",
       "            <tr>\n",
       "                        <th id=\"T_7f79619c_bfca_11ea_9522_50e08598ebb6level0_row1\" class=\"row_heading level0 row1\" >False</th>\n",
       "                        <td id=\"T_7f79619c_bfca_11ea_9522_50e08598ebb6row1_col0\" class=\"data row1 col0\" >4480</td>\n",
       "                        <td id=\"T_7f79619c_bfca_11ea_9522_50e08598ebb6row1_col1\" class=\"data row1 col1\" >41.12%</td>\n",
       "            </tr>\n",
       "    </tbody></table>"
      ],
      "text/plain": [
       "<pandas.io.formats.style.Styler at 0x227915d1f88>"
      ]
     },
     "execution_count": 28,
     "metadata": {},
     "output_type": "execute_result"
    }
   ],
   "source": [
    "start_with_letter_count = df[\"starts_with_letter\"].value_counts()\n",
    "pd.DataFrame({\"count\": start_with_letter_count,\n",
    "             \"percentage\": start_with_letter_count/df.shape[0]}).style.format(\"{:.2%}\", subset=[\"percentage\"])"
   ]
  },
  {
   "cell_type": "markdown",
   "metadata": {},
   "source": [
    "Are the letters only at the beginning or also in the middle (after a number)? To check this, let's apply a regex:\n",
    "* `^` at the beginning\n",
    "* `.` is something (letter, number or a character)\n",
    "* `*` zero or more times\n",
    "* `\\d` then a number\n",
    "* `+` once or more times\n",
    "* `[a-zA-Z]` then a letter in lower or capital case\n",
    "* `+` once or more times"
   ]
  },
  {
   "cell_type": "code",
   "execution_count": 29,
   "metadata": {},
   "outputs": [],
   "source": [
    "df[\"letter_after_number\"] = df[\"PassportNumber\"].apply(lambda x: \"Letter after number\" if re.match(\"^.*\\d+[a-zA-Z]+\", x) else \"Trailing numbers only\")"
   ]
  },
  {
   "cell_type": "code",
   "execution_count": 30,
   "metadata": {},
   "outputs": [
    {
     "data": {
      "text/html": [
       "<style  type=\"text/css\" >\n",
       "</style><table id=\"T_7f80b798_bfca_11ea_a3a8_50e08598ebb6\" ><thead>    <tr>        <th class=\"blank level0\" ></th>        <th class=\"col_heading level0 col0\" >count</th>        <th class=\"col_heading level0 col1\" >percentage</th>    </tr></thead><tbody>\n",
       "                <tr>\n",
       "                        <th id=\"T_7f80b798_bfca_11ea_a3a8_50e08598ebb6level0_row0\" class=\"row_heading level0 row0\" >Trailing numbers only</th>\n",
       "                        <td id=\"T_7f80b798_bfca_11ea_a3a8_50e08598ebb6row0_col0\" class=\"data row0 col0\" >10016</td>\n",
       "                        <td id=\"T_7f80b798_bfca_11ea_a3a8_50e08598ebb6row0_col1\" class=\"data row0 col1\" >91.93%</td>\n",
       "            </tr>\n",
       "            <tr>\n",
       "                        <th id=\"T_7f80b798_bfca_11ea_a3a8_50e08598ebb6level0_row1\" class=\"row_heading level0 row1\" >Letter after number</th>\n",
       "                        <td id=\"T_7f80b798_bfca_11ea_a3a8_50e08598ebb6row1_col0\" class=\"data row1 col0\" >879</td>\n",
       "                        <td id=\"T_7f80b798_bfca_11ea_a3a8_50e08598ebb6row1_col1\" class=\"data row1 col1\" >8.07%</td>\n",
       "            </tr>\n",
       "    </tbody></table>"
      ],
      "text/plain": [
       "<pandas.io.formats.style.Styler at 0x227907d3b88>"
      ]
     },
     "execution_count": 30,
     "metadata": {},
     "output_type": "execute_result"
    }
   ],
   "source": [
    "letter_after_number_count = df[\"letter_after_number\"].value_counts()\n",
    "pd.DataFrame({\"count\": letter_after_number_count,\n",
    "             \"percentage\": letter_after_number_count/df.shape[0]}).style.format(\"{:.2%}\", subset=[\"percentage\"])"
   ]
  },
  {
   "cell_type": "code",
   "execution_count": 31,
   "metadata": {},
   "outputs": [],
   "source": [
    "### How many letters appear at the beginning"
   ]
  },
  {
   "cell_type": "code",
   "execution_count": 32,
   "metadata": {},
   "outputs": [],
   "source": [
    "def lenght_of_start_letter_sequence(string):\n",
    "    # re.match returns None in case no match is found, and applying of .group(0) would lead to an error\n",
    "    if re.match(\"^[a-zA-Z]+\", string) is not None:\n",
    "        return len(re.match(\"^[a-zA-Z]+\", string).group(0))\n",
    "    else:\n",
    "        return 0"
   ]
  },
  {
   "cell_type": "code",
   "execution_count": 33,
   "metadata": {},
   "outputs": [],
   "source": [
    "df[\"lenght_of_start_letters\"] = df[\"PassportNumber\"].apply(lenght_of_start_letter_sequence)"
   ]
  },
  {
   "cell_type": "code",
   "execution_count": 34,
   "metadata": {},
   "outputs": [
    {
     "data": {
      "text/html": [
       "<div>\n",
       "<style scoped>\n",
       "    .dataframe tbody tr th:only-of-type {\n",
       "        vertical-align: middle;\n",
       "    }\n",
       "\n",
       "    .dataframe tbody tr th {\n",
       "        vertical-align: top;\n",
       "    }\n",
       "\n",
       "    .dataframe thead th {\n",
       "        text-align: right;\n",
       "    }\n",
       "</style>\n",
       "<table border=\"1\" class=\"dataframe\">\n",
       "  <thead>\n",
       "    <tr style=\"text-align: right;\">\n",
       "      <th></th>\n",
       "      <th>PassportNumber</th>\n",
       "      <th>lenght_of_start_letters</th>\n",
       "    </tr>\n",
       "  </thead>\n",
       "  <tbody>\n",
       "    <tr>\n",
       "      <td>6402</td>\n",
       "      <td>TVNDTT166</td>\n",
       "      <td>6</td>\n",
       "    </tr>\n",
       "    <tr>\n",
       "      <td>2119</td>\n",
       "      <td>DPJA04750</td>\n",
       "      <td>4</td>\n",
       "    </tr>\n",
       "    <tr>\n",
       "      <td>5864</td>\n",
       "      <td>ASFS15940</td>\n",
       "      <td>4</td>\n",
       "    </tr>\n",
       "    <tr>\n",
       "      <td>8870</td>\n",
       "      <td>MSDM64574</td>\n",
       "      <td>4</td>\n",
       "    </tr>\n",
       "    <tr>\n",
       "      <td>8883</td>\n",
       "      <td>HEYF30806</td>\n",
       "      <td>4</td>\n",
       "    </tr>\n",
       "    <tr>\n",
       "      <td>...</td>\n",
       "      <td>...</td>\n",
       "      <td>...</td>\n",
       "    </tr>\n",
       "    <tr>\n",
       "      <td>3412</td>\n",
       "      <td>T322281</td>\n",
       "      <td>1</td>\n",
       "    </tr>\n",
       "    <tr>\n",
       "      <td>1536</td>\n",
       "      <td>B0725650</td>\n",
       "      <td>1</td>\n",
       "    </tr>\n",
       "    <tr>\n",
       "      <td>3414</td>\n",
       "      <td>W29G28145</td>\n",
       "      <td>1</td>\n",
       "    </tr>\n",
       "    <tr>\n",
       "      <td>2007</td>\n",
       "      <td>J0701092</td>\n",
       "      <td>1</td>\n",
       "    </tr>\n",
       "    <tr>\n",
       "      <td>439</td>\n",
       "      <td>I20516475</td>\n",
       "      <td>1</td>\n",
       "    </tr>\n",
       "  </tbody>\n",
       "</table>\n",
       "<p>6415 rows × 2 columns</p>\n",
       "</div>"
      ],
      "text/plain": [
       "     PassportNumber  lenght_of_start_letters\n",
       "6402      TVNDTT166                        6\n",
       "2119      DPJA04750                        4\n",
       "5864      ASFS15940                        4\n",
       "8870      MSDM64574                        4\n",
       "8883      HEYF30806                        4\n",
       "...             ...                      ...\n",
       "3412        T322281                        1\n",
       "1536       B0725650                        1\n",
       "3414      W29G28145                        1\n",
       "2007       J0701092                        1\n",
       "439       I20516475                        1\n",
       "\n",
       "[6415 rows x 2 columns]"
      ]
     },
     "execution_count": 34,
     "metadata": {},
     "output_type": "execute_result"
    }
   ],
   "source": [
    "df.sort_values(by=\"lenght_of_start_letters\", ascending=False).loc[df[\"lenght_of_start_letters\"]>0,[\"PassportNumber\",\"lenght_of_start_letters\"]]"
   ]
  },
  {
   "cell_type": "code",
   "execution_count": 35,
   "metadata": {},
   "outputs": [
    {
     "data": {
      "text/plain": [
       "['ZIE196477', 'UQV963919', 'HPI965110', 'AJW724767', 'UZY040851']"
      ]
     },
     "execution_count": 35,
     "metadata": {},
     "output_type": "execute_result"
    }
   ],
   "source": [
    "df[df[\"lenght_of_start_letters\"]==3][\"PassportNumber\"].sample(5).to_list()"
   ]
  },
  {
   "cell_type": "markdown",
   "metadata": {},
   "source": [
    "## Common prefix"
   ]
  },
  {
   "cell_type": "markdown",
   "metadata": {},
   "source": [
    "There's a chance that the data supplier has added a prefix to the values, which was not originally included in the passport number. For most purposes, such a prefix must be removed. But how to find it? Let's first assume, that our prefix would have 3 characters"
   ]
  },
  {
   "cell_type": "code",
   "execution_count": 36,
   "metadata": {},
   "outputs": [
    {
     "data": {
      "text/plain": [
       "000    41\n",
       "009    37\n",
       "005    33\n",
       "932    29\n",
       "007    24\n",
       "       ..\n",
       "OD0     1\n",
       "VK4     1\n",
       "A99     1\n",
       "I09     1\n",
       "N6P     1\n",
       "Name: PassportNumber, Length: 4734, dtype: int64"
      ]
     },
     "execution_count": 36,
     "metadata": {},
     "output_type": "execute_result"
    }
   ],
   "source": [
    "df[\"PassportNumber\"].str.slice(stop=3).value_counts()"
   ]
  },
  {
   "cell_type": "code",
   "execution_count": 37,
   "metadata": {},
   "outputs": [
    {
     "data": {
      "text/plain": [
       "2.3014364174059994"
      ]
     },
     "execution_count": 37,
     "metadata": {},
     "output_type": "execute_result"
    }
   ],
   "source": [
    "# what is average occurance of the 3 character prefix\n",
    "df[\"PassportNumber\"].str.slice(stop=3).value_counts().mean()"
   ]
  },
  {
   "cell_type": "code",
   "execution_count": 38,
   "metadata": {},
   "outputs": [
    {
     "name": "stderr",
     "output_type": "stream",
     "text": [
      "C:\\Users\\v.dekanovsky\\Anaconda3\\lib\\site-packages\\ipykernel_launcher.py:2: SettingWithCopyWarning: \n",
      "A value is trying to be set on a copy of a slice from a DataFrame.\n",
      "Try using .loc[row_indexer,col_indexer] = value instead\n",
      "\n",
      "See the caveats in the documentation: http://pandas.pydata.org/pandas-docs/stable/user_guide/indexing.html#returning-a-view-versus-a-copy\n",
      "  \n"
     ]
    },
    {
     "data": {
      "text/html": [
       "<div>\n",
       "<style scoped>\n",
       "    .dataframe tbody tr th:only-of-type {\n",
       "        vertical-align: middle;\n",
       "    }\n",
       "\n",
       "    .dataframe tbody tr th {\n",
       "        vertical-align: top;\n",
       "    }\n",
       "\n",
       "    .dataframe thead th {\n",
       "        text-align: right;\n",
       "    }\n",
       "</style>\n",
       "<table border=\"1\" class=\"dataframe\">\n",
       "  <thead>\n",
       "    <tr style=\"text-align: right;\">\n",
       "      <th></th>\n",
       "      <th>prefix</th>\n",
       "      <th>len</th>\n",
       "      <th>0</th>\n",
       "    </tr>\n",
       "  </thead>\n",
       "  <tbody>\n",
       "    <tr>\n",
       "      <td>2221</td>\n",
       "      <td>932</td>\n",
       "      <td>12</td>\n",
       "      <td>27</td>\n",
       "    </tr>\n",
       "    <tr>\n",
       "      <td>2245</td>\n",
       "      <td>943</td>\n",
       "      <td>12</td>\n",
       "      <td>4</td>\n",
       "    </tr>\n",
       "    <tr>\n",
       "      <td>1518</td>\n",
       "      <td>627</td>\n",
       "      <td>12</td>\n",
       "      <td>3</td>\n",
       "    </tr>\n",
       "    <tr>\n",
       "      <td>1964</td>\n",
       "      <td>825</td>\n",
       "      <td>12</td>\n",
       "      <td>3</td>\n",
       "    </tr>\n",
       "    <tr>\n",
       "      <td>2273</td>\n",
       "      <td>956</td>\n",
       "      <td>12</td>\n",
       "      <td>3</td>\n",
       "    </tr>\n",
       "    <tr>\n",
       "      <td>...</td>\n",
       "      <td>...</td>\n",
       "      <td>...</td>\n",
       "      <td>...</td>\n",
       "    </tr>\n",
       "    <tr>\n",
       "      <td>921</td>\n",
       "      <td>370</td>\n",
       "      <td>12</td>\n",
       "      <td>1</td>\n",
       "    </tr>\n",
       "    <tr>\n",
       "      <td>905</td>\n",
       "      <td>363</td>\n",
       "      <td>12</td>\n",
       "      <td>1</td>\n",
       "    </tr>\n",
       "    <tr>\n",
       "      <td>903</td>\n",
       "      <td>362</td>\n",
       "      <td>12</td>\n",
       "      <td>1</td>\n",
       "    </tr>\n",
       "    <tr>\n",
       "      <td>890</td>\n",
       "      <td>357</td>\n",
       "      <td>12</td>\n",
       "      <td>1</td>\n",
       "    </tr>\n",
       "    <tr>\n",
       "      <td>7123</td>\n",
       "      <td>YCM</td>\n",
       "      <td>12</td>\n",
       "      <td>1</td>\n",
       "    </tr>\n",
       "  </tbody>\n",
       "</table>\n",
       "<p>366 rows × 3 columns</p>\n",
       "</div>"
      ],
      "text/plain": [
       "     prefix  len   0\n",
       "2221    932   12  27\n",
       "2245    943   12   4\n",
       "1518    627   12   3\n",
       "1964    825   12   3\n",
       "2273    956   12   3\n",
       "...     ...  ...  ..\n",
       "921     370   12   1\n",
       "905     363   12   1\n",
       "903     362   12   1\n",
       "890     357   12   1\n",
       "7123    YCM   12   1\n",
       "\n",
       "[366 rows x 3 columns]"
      ]
     },
     "execution_count": 38,
     "metadata": {},
     "output_type": "execute_result"
    }
   ],
   "source": [
    "c = df[[\"PassportNumber\", \"len\"]]\n",
    "c[\"prefix\"] = c[\"PassportNumber\"].str.slice(stop=3)\n",
    "\n",
    "# group by both prefix and the full length of the passport\n",
    "prefix_by_length_df = c.groupby([\"prefix\", \"len\"]).size().reset_index()\n",
    "\n",
    "# review if there are some prefixes appearing more often\n",
    "prefix_by_length_df[prefix_by_length_df[\"len\"]==12].sort_values(by=0, ascending=False)"
   ]
  },
  {
   "cell_type": "code",
   "execution_count": 39,
   "metadata": {},
   "outputs": [
    {
     "data": {
      "text/plain": [
       "1.3278688524590163"
      ]
     },
     "execution_count": 39,
     "metadata": {},
     "output_type": "execute_result"
    }
   ],
   "source": [
    "prefix_by_length_df[prefix_by_length_df[\"len\"]==12][0].mean()"
   ]
  },
  {
   "cell_type": "markdown",
   "metadata": {},
   "source": [
    "## Randomize the passports\n",
    "If you have sensitive data, but you need to share them with a data scientist, most clients would agree to share the anonymized data or randomized sample. In our case, let's try simple randomization, which: \n",
    "* Keeps leading and trailing zeros\n",
    "* Change any number for a random number\n",
    "* Change any letter for a random letter"
   ]
  },
  {
   "cell_type": "code",
   "execution_count": 40,
   "metadata": {},
   "outputs": [],
   "source": [
    "import random\n",
    "import string"
   ]
  },
  {
   "cell_type": "code",
   "execution_count": 41,
   "metadata": {},
   "outputs": [],
   "source": [
    "def passport_randomizer(list_of_passports):\n",
    "    processed = {} # dictionaly which will keep the {\"old\": \"new value\"}\n",
    "    for p in list_of_passports:\n",
    "        leading_zeros_up_to = len(p) - len(p.lstrip(\"0\"))\n",
    "        trailing_zeros_up_to = len(p) - (len(p) - len(p.rstrip(\"0\")))\n",
    "        out = []\n",
    "        for i, c in enumerate(p):\n",
    "            # keep the leading and trailing zeros intact\n",
    "            if i < leading_zeros_up_to or i >= trailing_zeros_up_to:\n",
    "                out.append(c)\n",
    "            # then change any number to a random number\n",
    "            elif c.isnumeric():\n",
    "                out.append(str(random.randint(0,9)))\n",
    "            # finally the rest for a random letter\n",
    "            else:\n",
    "                out.append(random.choice(string.ascii_letters).upper())\n",
    "        processed[p] = \"\".join(out)\n",
    "    return processed"
   ]
  },
  {
   "cell_type": "markdown",
   "metadata": {},
   "source": [
    "Let's first try on a short sample"
   ]
  },
  {
   "cell_type": "code",
   "execution_count": 42,
   "metadata": {},
   "outputs": [
    {
     "data": {
      "text/plain": [
       "{'0012300': '0034600',\n",
       " 'ABC': 'LIO',\n",
       " '00EFG': '00FZA',\n",
       " 'IJK00': 'VDT00',\n",
       " '012DF340': '017MA270'}"
      ]
     },
     "execution_count": 42,
     "metadata": {},
     "output_type": "execute_result"
    }
   ],
   "source": [
    "p_test = pd.DataFrame([\"0012300\",\"ABC\",\"00EFG\",\"IJK00\",\"012DF340\"])\n",
    "passport_randomizer(p_test[0])"
   ]
  },
  {
   "cell_type": "markdown",
   "metadata": {},
   "source": [
    "The function seems to meet all our criteria, so let's randomize the whole passport set:"
   ]
  },
  {
   "cell_type": "code",
   "execution_count": 43,
   "metadata": {},
   "outputs": [
    {
     "data": {
      "text/plain": [
       "{'B5649076': 'P5868159',\n",
       " '0022730': '0004420',\n",
       " 'O528485': 'A054277',\n",
       " '3150943': '5799754',\n",
       " 'L1114025': 'T0956134'}"
      ]
     },
     "execution_count": 43,
     "metadata": {},
     "output_type": "execute_result"
    }
   ],
   "source": [
    "from itertools import islice\n",
    "processed = passport_randomizer(df[\"PassportNumber\"].unique())\n",
    "dict(islice(processed.items(), 5))  "
   ]
  },
  {
   "cell_type": "markdown",
   "metadata": {},
   "source": [
    "In the original dataFrame some passports were duplicated, so we will `randomize` only the `unique()` values so that we don't randomize one value into two different ones. Then we can `map` the old values to the new ones in a single step and save as a new_data.csv. "
   ]
  },
  {
   "cell_type": "code",
   "execution_count": 44,
   "metadata": {},
   "outputs": [],
   "source": [
    "df[\"PassportNumber\"].map(processed).to_csv(r\"new_data.csv\", index=False, header=True)"
   ]
  },
  {
   "cell_type": "markdown",
   "metadata": {},
   "source": [
    "This method still have some drawbacks, because the strict randomization disolves possible common prefix."
   ]
  },
  {
   "cell_type": "markdown",
   "metadata": {},
   "source": [
    "# Conclusion"
   ]
  },
  {
   "cell_type": "markdown",
   "metadata": {},
   "source": [
    "In this notebook we have reviewed several methods how to analyze a list of **alpha-numeric** strings to:\n",
    "* count the length of the string\n",
    "* count the leading and trailing zeros\n",
    "* occurrence of a specific character (zero) at a specific position \n",
    "* review how many start with a letter\n",
    "* review how many has a letter in the middle\n",
    "* analyzed if there's a common prefix\n",
    "* randomized the dataset"
   ]
  }
 ],
 "metadata": {
  "kernelspec": {
   "display_name": "Python 3",
   "language": "python",
   "name": "python3"
  },
  "language_info": {
   "codemirror_mode": {
    "name": "ipython",
    "version": 3
   },
   "file_extension": ".py",
   "mimetype": "text/x-python",
   "name": "python",
   "nbconvert_exporter": "python",
   "pygments_lexer": "ipython3",
   "version": "3.7.4"
  }
 },
 "nbformat": 4,
 "nbformat_minor": 2
}
